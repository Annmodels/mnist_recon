{
  "nbformat": 4,
  "nbformat_minor": 0,
  "metadata": {
    "colab": {
      "name": "DnRGB.ipynb",
      "provenance": [],
      "collapsed_sections": [],
      "authorship_tag": "ABX9TyOFrX1j6Tvmhva8NldVaEqM",
      "include_colab_link": true
    },
    "kernelspec": {
      "name": "python3",
      "display_name": "Python 3"
    },
    "accelerator": "GPU"
  },
  "cells": [
    {
      "cell_type": "markdown",
      "metadata": {
        "id": "view-in-github",
        "colab_type": "text"
      },
      "source": [
        "<a href=\"https://colab.research.google.com/github/Annmodels/mnist_recon/blob/master/DnRGB.ipynb\" target=\"_parent\"><img src=\"https://colab.research.google.com/assets/colab-badge.svg\" alt=\"Open In Colab\"/></a>"
      ]
    },
    {
      "cell_type": "code",
      "metadata": {
        "id": "xY5Kjad8Mqh6",
        "colab_type": "code",
        "colab": {}
      },
      "source": [
        "#%pylab notebook\n",
        "import cv2\n",
        "import tensorflow as tf\n",
        "import numpy as np\n",
        "import os\n",
        "import matplotlib\n",
        "import matplotlib.pyplot as plt\n",
        "%matplotlib inline\n",
        "import zipfile\n",
        "import time"
      ],
      "execution_count": 0,
      "outputs": []
    },
    {
      "cell_type": "code",
      "metadata": {
        "id": "LigCdFRwNrTN",
        "colab_type": "code",
        "colab": {}
      },
      "source": [
        "from google.colab import files\n",
        "files.upload()"
      ],
      "execution_count": 0,
      "outputs": []
    },
    {
      "cell_type": "code",
      "metadata": {
        "id": "Hs_g61mrOgMX",
        "colab_type": "code",
        "colab": {}
      },
      "source": [
        "!mkdir -p ~/.kaggle\n",
        "!cp kaggle.json ~/.kaggle/\n",
        "!chmod 600 ~/.kaggle/kaggle.json"
      ],
      "execution_count": 0,
      "outputs": []
    },
    {
      "cell_type": "code",
      "metadata": {
        "id": "7b63WzV6PE-K",
        "colab_type": "code",
        "colab": {}
      },
      "source": [
        "!kaggle competitions download -c cifar-10"
      ],
      "execution_count": 0,
      "outputs": []
    },
    {
      "cell_type": "code",
      "metadata": {
        "id": "OIRe5W5XYTzM",
        "colab_type": "code",
        "colab": {}
      },
      "source": [
        "os.chdir('/content')\n",
        "!pwd\n",
        "path = 'final'\n",
        "os.makedirs(path)\n",
        "os.chdir(path)\n",
        "!pwd\n",
        "!cp '/content/train.7z' '/content/final/'\n",
        "!ls\n",
        "!7z e train.7z\n"
      ],
      "execution_count": 0,
      "outputs": []
    },
    {
      "cell_type": "code",
      "metadata": {
        "id": "WxBhj7UgTv-n",
        "colab_type": "code",
        "colab": {}
      },
      "source": [
        "!pwd\n",
        "\n",
        "!rm '/content/final/train.7z'\n",
        "os.chdir('/content/final/')\n",
        "\n",
        "!rmdir train\n",
        "img_db = []\n",
        "base_path = '/content/'\n",
        "cartoon = '/content/final'\n",
        "for img in os.listdir(cartoon):\n",
        "  try:\n",
        "    img_ary = cv2.imread(os.path.join(cartoon,img))\n",
        "    img_db.append(img_ary)\n",
        "  except Exception as e:\n",
        "      pass\n",
        "img_db = np.array(img_db)\n",
        "print(img_db.shape)"
      ],
      "execution_count": 0,
      "outputs": []
    },
    {
      "cell_type": "code",
      "metadata": {
        "id": "j7407yv1Z5vH",
        "colab_type": "code",
        "colab": {}
      },
      "source": [
        "def plot_images(img):\n",
        "  fig , axes = plt.subplots(2 , 8 , figsize = (13,3))\n",
        "  for i in range(8):\n",
        "    axes[0,i].imshow(img[i])\n",
        "    axes[0,i].axis('off')\n",
        "    axes[1,i].imshow(img[i+8])\n",
        "    axes[1,i].axis('off')\n",
        "  #fig.show()\n",
        "  #plt.draw()\n",
        "  #plt.close()"
      ],
      "execution_count": 0,
      "outputs": []
    },
    {
      "cell_type": "code",
      "metadata": {
        "id": "VtG7KsuFWg5a",
        "colab_type": "code",
        "colab": {}
      },
      "source": [
        "\n",
        "img_db = np.array(img_db)\n",
        "print(img_db.shape)\n",
        "total_imgs = 2000\n",
        "img_db = np.array(img_db[0:total_imgs])\n",
        "original = img_db.astype('float32')\n",
        "original = original/255\n",
        "print(original.shape)\n",
        "\n",
        "plot_images(original)\n",
        "                     "
      ],
      "execution_count": 0,
      "outputs": []
    },
    {
      "cell_type": "code",
      "metadata": {
        "id": "BJ_jpqHmbv5m",
        "colab_type": "code",
        "colab": {}
      },
      "source": [
        "noisy = original + 0.1*np.random.normal(loc = 0.0,scale = 1.0,size = original.shape)\n",
        "original = np.clip(original,0,1)\n",
        "plot_images(noisy) #.astype(uint8))\n",
        "xt = np.transpose(original,(0,3,1,2))\n",
        "xt_noise = np.transpose(noisy,(0,3,1,2))\n",
        "print(xt.shape)\n",
        "print(xt_noise.shape)\n",
        "xtflat = xt.reshape(-1,1024)\n",
        "xtflat_noise = xt_noise.reshape(-1,1024)\n",
        "print(xtflat.shape)\n",
        "print(xtflat_noise.shape)\n",
        "                                "
      ],
      "execution_count": 0,
      "outputs": []
    },
    {
      "cell_type": "code",
      "metadata": {
        "id": "e413FqS_dl68",
        "colab_type": "code",
        "colab": {}
      },
      "source": [
        "lrate = 0.001\n",
        "epochs = 10000\n",
        "batchsz = 100\n",
        "displaystep = 100\n",
        "ex2show = 8"
      ],
      "execution_count": 0,
      "outputs": []
    },
    {
      "cell_type": "code",
      "metadata": {
        "id": "KJ7hJgPqebGa",
        "colab_type": "code",
        "colab": {}
      },
      "source": [
        "hidden1 = 512\n",
        "hidden2 = 256\n",
        "hidden3 = 128\n",
        "ninput = 1024"
      ],
      "execution_count": 0,
      "outputs": []
    },
    {
      "cell_type": "code",
      "metadata": {
        "id": "mR1uYiESj7dG",
        "colab_type": "code",
        "colab": {}
      },
      "source": [
        "x = tf.placeholder('float32',[None,ninput])\n",
        "y = tf.placeholder('float32',[None,ninput])\n"
      ],
      "execution_count": 0,
      "outputs": []
    },
    {
      "cell_type": "code",
      "metadata": {
        "id": "Foe5Pscskg6h",
        "colab_type": "code",
        "colab": {}
      },
      "source": [
        "weights = {'enh1':tf.Variable(tf.truncated_normal([ninput,hidden1],stddev = 0.01)),\n",
        "           'enh2':tf.Variable(tf.truncated_normal([hidden1,hidden2],stddev = 0.01)),\n",
        "           'enh3':tf.Variable(tf.truncated_normal([hidden2,hidden3],stddev = 0.01)),\n",
        "           'deh1':tf.Variable(tf.truncated_normal([hidden3,hidden2],stddev = 0.01)),\n",
        "           'deh2':tf.Variable(tf.truncated_normal([hidden2,hidden1],stddev = 0.01)),\n",
        "           'deh3':tf.Variable(tf.truncated_normal([hidden1,ninput],stddev = 0.01))\n",
        "          }\n",
        "biases = {'enb1':tf.Variable(tf.truncated_normal([hidden1],stddev = 0.01)),\n",
        "          'enb2':tf.Variable(tf.truncated_normal([hidden2],stddev = 0.01)),\n",
        "          'enb3':tf.Variable(tf.truncated_normal([hidden3],stddev = 0.01)),\n",
        "          'deb1':tf.Variable(tf.truncated_normal([hidden2],stddev = 0.01)),\n",
        "          'deb2':tf.Variable(tf.truncated_normal([hidden1],stddev = 0.01)),\n",
        "          'deb3':tf.Variable(tf.truncated_normal([ninput],stddev = 0.01))\n",
        "}\n"
      ],
      "execution_count": 0,
      "outputs": []
    },
    {
      "cell_type": "code",
      "metadata": {
        "id": "Mnlp1OOe2SAF",
        "colab_type": "code",
        "colab": {}
      },
      "source": [
        "def encoder(x):\n",
        "  layer1 = tf.nn.sigmoid(tf.add(tf.matmul(x,weights['enh1']),biases['enb1']))\n",
        "  layer2 = tf.nn.sigmoid(tf.add(tf.matmul(layer1,weights['enh2']),biases['enb2']))\n",
        "  layer3 = tf.nn.sigmoid(tf.add(tf.matmul(layer2,weights['enh3']),biases['enb3']))\n",
        "  return layer3\n",
        "def decoder(x):\n",
        "  layer1 = tf.nn.sigmoid(tf.add(tf.matmul(x,weights['deh1']),biases['deb1']))\n",
        "  layer2 = tf.nn.sigmoid(tf.add(tf.matmul(layer1,weights['deh2']),biases['deb2']))\n",
        "  layer3 = tf.nn.sigmoid(tf.add(tf.matmul(layer2,weights['deh3']),biases['deb3']))\n",
        "  return layer3"
      ],
      "execution_count": 0,
      "outputs": []
    },
    {
      "cell_type": "code",
      "metadata": {
        "id": "OKGvs3eHqW0C",
        "colab_type": "code",
        "colab": {}
      },
      "source": [
        "encoder_op = encoder(x)\n",
        "decoder_op = decoder(encoder_op)\n",
        "ypred = decoder_op\n",
        "cost = tf.reduce_mean(tf.pow(y-ypred,2))\n",
        "optimizer = tf.train.RMSPropOptimizer(lrate).minimize(cost)\n",
        "init = tf.global_variables_initializer()"
      ],
      "execution_count": 0,
      "outputs": []
    },
    {
      "cell_type": "code",
      "metadata": {
        "id": "Jy4Kf8Oqrn5l",
        "colab_type": "code",
        "colab": {}
      },
      "source": [
        "starttime = time.time()\n",
        "totalbatch = int(xtflat.shape[0]/100) #batchsz)\n",
        "sess = tf.Session()\n",
        "sess.run(init)\n",
        "for epoch in range(epochs):\n",
        "  start = 0\n",
        "  end = batchsz\n",
        "  for i in range(totalbatch-1):\n",
        "    index = np.arange(start,end)\n",
        "    np.random.shuffle(index)\n",
        "    batchxs = xtflat[index]\n",
        "    batchxsn = xtflat_noise[index]\n",
        "    start = end\n",
        "    end = start + batchsz\n",
        "    _,c = sess.run([optimizer,cost],feed_dict = {x:batchxsn,y:batchxs})\n",
        "  if (epoch%100 == 0):\n",
        "    print('epoch:  {0:05d}  loss:{1:f}'.format(epoch,c))\n",
        "print(\"finished\")\n",
        "endtime = time.time()\n",
        "print('time tkn:{0}'.format(endtime-starttime))"
      ],
      "execution_count": 0,
      "outputs": []
    },
    {
      "cell_type": "code",
      "metadata": {
        "id": "8ev3A1SaGcxh",
        "colab_type": "code",
        "colab": {}
      },
      "source": [
        "indext = np.random.randint(original.shape[0],size = ex2show)\n",
        "print(indext)\n",
        "indext = np.sort(indext)\n",
        "print(indext)\n",
        "rgbdx = np.concatenate([indext*3,indext*3+1,indext*3+2])\n",
        "print(rgbdx)\n",
        "rgbdx = np.sort(rgbdx)\n",
        "print(rgbdx)\n",
        "denoised = sess.run(ypred,feed_dict = {x:xtflat_noise[rgbdx]})\n",
        "print(denoised.shape)\n",
        "denoised = np.reshape(denoised,(ex2show,3,32,32))\n",
        "print(denoised.shape)\n",
        "denoised = np.transpose(denoised,(0,2,3,1))\n",
        "print(denoised.shape)"
      ],
      "execution_count": 0,
      "outputs": []
    },
    {
      "cell_type": "code",
      "metadata": {
        "id": "F4BEDGMZJX7h",
        "colab_type": "code",
        "colab": {}
      },
      "source": [
        "f , a = plt.subplots(3,ex2show,figsize = (13,5))\n",
        "for i in range(ex2show):\n",
        "  a[0][i].imshow(original[indext[i]])\n",
        "  a[0,i].axis('off')\n",
        "  a[1][i].imshow(noisy[indext[i]])\n",
        "  a[1,i].axis('off')\n",
        "  a[2][i].imshow(denoised[i])\n",
        "  a[2,i].axis('off')\n",
        "f.show()\n",
        "plt.draw()\n"
      ],
      "execution_count": 0,
      "outputs": []
    },
    {
      "cell_type": "code",
      "metadata": {
        "id": "4ZO4EWVZMkF-",
        "colab_type": "code",
        "colab": {}
      },
      "source": [
        "def plot_max_active(x):\n",
        "  fig,axes = plt.subplots(10 , 10, figsize = (13,10))\n",
        "  fig.subplots_adjust(hspace = .1 , wspace = 0)\n",
        "  h = w = np.sqrt(x.shape[0]).astype(int)\n",
        "\n",
        "  for i,ax in enumerate(axes.flat):\n",
        "    ax.imshow(x[:,i].reshape((h,w)))\n",
        "    ax.set_xticks([])\n",
        "    ax.set_yticks([])\n",
        "    ax.set_xticklabels([])\n",
        "    ax.set_yticklabels([])\n",
        "  plt.show()\n",
        "plot_max_active(sess.run(weights['enh3']))\n"
      ],
      "execution_count": 0,
      "outputs": []
    },
    {
      "cell_type": "code",
      "metadata": {
        "id": "xYmGo-ltJKOK",
        "colab_type": "code",
        "colab": {}
      },
      "source": [
        "plt.close('all')"
      ],
      "execution_count": 0,
      "outputs": []
    }
  ]
}