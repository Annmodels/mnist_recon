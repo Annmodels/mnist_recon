{
  "nbformat": 4,
  "nbformat_minor": 0,
  "metadata": {
    "colab": {
      "name": "BcnnMnist.ipynb",
      "provenance": [],
      "collapsed_sections": [],
      "authorship_tag": "ABX9TyNR8SJkEcoufNq0mBs4wn46",
      "include_colab_link": true
    },
    "kernelspec": {
      "name": "python3",
      "display_name": "Python 3"
    },
    "accelerator": "GPU"
  },
  "cells": [
    {
      "cell_type": "markdown",
      "metadata": {
        "id": "view-in-github",
        "colab_type": "text"
      },
      "source": [
        "<a href=\"https://colab.research.google.com/github/Annmodels/mnist_recon/blob/master/BcnnMnist.ipynb\" target=\"_parent\"><img src=\"https://colab.research.google.com/assets/colab-badge.svg\" alt=\"Open In Colab\"/></a>"
      ]
    },
    {
      "cell_type": "code",
      "metadata": {
        "id": "F1QHQ-OdHJXJ",
        "colab_type": "code",
        "colab": {}
      },
      "source": [
        "from keras.datasets import mnist\n",
        "from keras.models import Sequential\n",
        "from keras.layers import Dense\n",
        "from keras.layers import Dropout\n",
        "from keras.layers import Flatten\n",
        "from keras.layers.convolutional import Conv2D\n",
        "from keras.layers.convolutional import MaxPooling2D\n",
        "from keras.utils import np_utils"
      ],
      "execution_count": 0,
      "outputs": []
    },
    {
      "cell_type": "code",
      "metadata": {
        "id": "pitLLkq1Iq-n",
        "colab_type": "code",
        "colab": {}
      },
      "source": [
        "(xtrain,ytrain),(xtest,ytest) = mnist.load_data()"
      ],
      "execution_count": 0,
      "outputs": []
    },
    {
      "cell_type": "code",
      "metadata": {
        "id": "b0Kg2FIVJKsq",
        "colab_type": "code",
        "colab": {}
      },
      "source": [
        "xtrain = xtrain.reshape((xtrain.shape[0],28,28,1)).astype('float32')\n",
        "xtest = xtest.reshape((xtest.shape[0],28,28,1)).astype('float32')\n",
        "xtrain = xtrain/255\n",
        "xtest = xtest/255\n",
        "ytrain = np_utils.to_categorical(ytrain)\n",
        "ytest = np_utils.to_categorical(ytest)\n",
        "numclasses = ytest.shape[1]"
      ],
      "execution_count": 0,
      "outputs": []
    },
    {
      "cell_type": "code",
      "metadata": {
        "id": "EvaXwthaK5qM",
        "colab_type": "code",
        "colab": {}
      },
      "source": [
        "def basemodel():\n",
        "  model = Sequential()\n",
        "  model.add(Conv2D(32,(5,5),input_shape = (28,28,1),activation = 'relu'))\n",
        "  model.add(MaxPooling2D())\n",
        "  model.add(Dropout(0.2))\n",
        "  model.add(Flatten())\n",
        "  model.add(Dense(128,activation = 'relu'))\n",
        "  model.add(Dense(numclasses,activation = 'softmax'))\n",
        "  model.compile(loss = 'categorical_crossentropy',optimizer = 'adam',metrics = ['accuracy'])\n",
        "  return model"
      ],
      "execution_count": 0,
      "outputs": []
    },
    {
      "cell_type": "code",
      "metadata": {
        "id": "n0YJAYI0Ns-B",
        "colab_type": "code",
        "colab": {}
      },
      "source": [
        "model = basemodel()\n",
        "model.fit(xtrain,ytrain,validation_data = (xtest,ytest),epochs = 10,batch_size = 200)\n",
        "scores = model.evaluate(xtest,ytest,verbose = 1)\n",
        "print(\"cnn error:%.2f%%\"%(100-scores[1]*100))\n",
        "model.save(\"my_model.h5\")"
      ],
      "execution_count": 0,
      "outputs": []
    },
    {
      "cell_type": "code",
      "metadata": {
        "id": "wA6KZWsvQer-",
        "colab_type": "code",
        "outputId": "2d7fd013-10d3-46de-da38-aa2e01983be1",
        "colab": {
          "base_uri": "https://localhost:8080/",
          "height": 149
        }
      },
      "source": [
        "import matplotlib.pyplot as plt\n",
        "j = 534\n",
        "(ox,oy),(oxt,oyt) = mnist.load_data()\n",
        "plt.subplot(221)\n",
        "plt.imshow(ox[j],cmap = plt.get_cmap('gray'))\n",
        "plt.show()"
      ],
      "execution_count": 0,
      "outputs": [
        {
          "output_type": "display_data",
          "data": {
            "image/png": "[encoded data removed]",
            "text/plain": [
              "<Figure size 432x288 with 1 Axes>"
            ]
          },
          "metadata": {
            "tags": []
          }
        }
      ]
    },
    {
      "cell_type": "code",
      "metadata": {
        "id": "tZ8cpkGcVTkE",
        "colab_type": "code",
        "outputId": "3ceaeb18-a3c9-4bc5-cf49-04408e5fa5c5",
        "colab": {
          "base_uri": "https://localhost:8080/",
          "height": 34
        }
      },
      "source": [
        "import tensorflow as tf\n",
        "import numpy as np\n",
        "newmodel = tf.keras.models.load_model(\"my_model.h5\")\n",
        "vsx = ox.reshape((ox.shape[0],28,28,1)).astype('float32')\n",
        "vsx = vsx/255\n",
        "vsxj = vsx[j]\n",
        "#print(vsxj.shape)\n",
        "vsxj = vsxj.reshape(1,28,28,1)\n",
        "#print(vsxj.shape)\n",
        "\n",
        "##vsy = np_utils.to_categorical(oy)\n",
        "#print(vsy.shape)\n",
        "##vsyj = vsy[j]\n",
        "##vsyj = vsyj.reshape(1,10)\n",
        "#print(vsyj.shape)\n",
        "##vsnew = newmodel.evaluate(vsxj,vsyj,verbose = 0)\n",
        "##print(vsnew)\n",
        "##print(\"vbe:%.2f%%\"%(100-vsnew[1]*100))\n",
        "ypred = newmodel.predict(vsxj)\n",
        "#print(ypred)\n",
        "print(np.argmax(ypred))"
      ],
      "execution_count": 0,
      "outputs": [
        {
          "output_type": "stream",
          "text": [
            "6\n"
          ],
          "name": "stdout"
        }
      ]
    }
  ]
}