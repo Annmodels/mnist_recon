{
  "nbformat": 4,
  "nbformat_minor": 0,
  "metadata": {
    "colab": {
      "name": "KerasAdamMnist.ipynb",
      "provenance": [],
      "collapsed_sections": [],
      "authorship_tag": "ABX9TyPZq4wrApyg6/AYGKA7i1Ep",
      "include_colab_link": true
    },
    "kernelspec": {
      "name": "python3",
      "display_name": "Python 3"
    },
    "accelerator": "GPU"
  },
  "cells": [
    {
      "cell_type": "markdown",
      "metadata": {
        "id": "view-in-github",
        "colab_type": "text"
      },
      "source": [
        "<a href=\"https://colab.research.google.com/github/Annmodels/mnist_recon/blob/master/KerasAdamMnist.ipynb\" target=\"_parent\"><img src=\"https://colab.research.google.com/assets/colab-badge.svg\" alt=\"Open In Colab\"/></a>"
      ]
    },
    {
      "cell_type": "code",
      "metadata": {
        "id": "7xIWap1xSzuq",
        "colab_type": "code",
        "colab": {}
      },
      "source": [
        "from keras.datasets import mnist\n",
        "from keras.models import Sequential\n",
        "from keras.layers import Dense\n",
        "from keras.utils import np_utils\n",
        "import matplotlib.pyplot as plt"
      ],
      "execution_count": 0,
      "outputs": []
    },
    {
      "cell_type": "code",
      "metadata": {
        "id": "D3H1DkNNUIZi",
        "colab_type": "code",
        "colab": {}
      },
      "source": [
        "(xtrain,ytrain),(xtest,ytest) = mnist.load_data()\n"
      ],
      "execution_count": 0,
      "outputs": []
    },
    {
      "cell_type": "code",
      "metadata": {
        "id": "e_FHjxO3UhTT",
        "colab_type": "code",
        "colab": {}
      },
      "source": [
        "numpix = xtrain.shape[1]*xtrain.shape[2]\n",
        "xtrain = xtrain.reshape((xtrain.shape[0],numpix)).astype('float32')\n",
        "xtest = xtest.reshape((xtest.shape[0],numpix)).astype('float32')\n",
        "xtrain = xtrain/255\n",
        "xtest = xtest/255"
      ],
      "execution_count": 0,
      "outputs": []
    },
    {
      "cell_type": "code",
      "metadata": {
        "id": "F6p3FUi9WLmm",
        "colab_type": "code",
        "colab": {}
      },
      "source": [
        "ytrain = np_utils.to_categorical(ytrain)\n",
        "ytest = np_utils.to_categorical(ytest)\n",
        "numclasses = ytest.shape[1]"
      ],
      "execution_count": 0,
      "outputs": []
    },
    {
      "cell_type": "code",
      "metadata": {
        "id": "hoaC-ys_WuNS",
        "colab_type": "code",
        "colab": {}
      },
      "source": [
        "def basemodel():\n",
        "  model = Sequential()\n",
        "  model.add(Dense(numpix,input_dim = numpix,kernel_initializer = 'normal',activation = 'relu'))\n",
        "  model.add(Dense(numclasses,kernel_initializer = 'normal',activation = 'softmax'))\n",
        "  model.compile(loss = 'categorical_crossentropy',optimizer = 'adam',metrics = ['accuracy'])\n",
        "  return model"
      ],
      "execution_count": 0,
      "outputs": []
    },
    {
      "cell_type": "code",
      "metadata": {
        "id": "Ac4lKghIYXKY",
        "colab_type": "code",
        "colab": {}
      },
      "source": [
        "model = basemodel()\n",
        "model.fit(xtrain,ytrain,validation_data=(xtest,ytest),epochs = 10,batch_size = 200,verbose = 2)\n",
        "scores = model.evaluate(xtest,ytest,verbose = 0)\n",
        "print(\"base error:%.2f%%\"%(100-scores[1]*100))\n",
        "model.save(\"my_model.h5\")"
      ],
      "execution_count": 0,
      "outputs": []
    },
    {
      "cell_type": "code",
      "metadata": {
        "id": "o8Dt9lu1e4Nv",
        "colab_type": "code",
        "outputId": "685b5845-7c30-40a3-918d-9ebcb79fc934",
        "colab": {
          "base_uri": "https://localhost:8080/",
          "height": 149
        }
      },
      "source": [
        "j = 643\n",
        "(ox,oy),(oxt,oyt) = mnist.load_data()\n",
        "plt.subplot(221)\n",
        "plt.imshow(ox[j],cmap=plt.get_cmap('gray'))\n",
        "plt.show()"
      ],
      "execution_count": 0,
      "outputs": [
        {
          "output_type": "display_data",
          "data": {
            "image/png": "[encoded data removed]",
            "text/plain": [
              "<Figure size 432x288 with 1 Axes>"
            ]
          },
          "metadata": {
            "tags": []
          }
        }
      ]
    },
    {
      "cell_type": "code",
      "metadata": {
        "id": "f2fgVXhg7OhI",
        "colab_type": "code",
        "outputId": "c4e4738c-e207-40c9-b9cd-c17b697d8cf5",
        "colab": {
          "base_uri": "https://localhost:8080/",
          "height": 34
        }
      },
      "source": [
        "import tensorflow as tf\n",
        "import numpy as np\n",
        "newmodel = tf.keras.models.load_model(\"my_model.h5\")\n",
        "vsx = ox[j].reshape(1,-1)/255\n",
        "#vsy = ytrain[j].reshape(1,-1)\n",
        "#print(vsy)\n",
        "#vs = model.evaluate(vsx,vsy,verbose = 1)\n",
        "#vsnew = newmodel.evaluate(vsx,vsy,verbose = 1)\n",
        "#print(vs,vsnew)\n",
        "#print(\"vbe:%.2f%%\"%(100-vsnew[1]*100))\n",
        "ypred = newmodel.predict(vsx)\n",
        "print(np.argmax(ypred))"
      ],
      "execution_count": 0,
      "outputs": [
        {
          "output_type": "stream",
          "text": [
            "3\n"
          ],
          "name": "stdout"
        }
      ]
    }
  ]
}