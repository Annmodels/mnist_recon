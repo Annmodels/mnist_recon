{
  "nbformat": 4,
  "nbformat_minor": 0,
  "metadata": {
    "colab": {
      "name": "GDMnistL.ipynb",
      "provenance": [],
      "collapsed_sections": [],
      "authorship_tag": "ABX9TyO+z+BnsU4sgLqSCK+4T23x",
      "include_colab_link": true
    },
    "kernelspec": {
      "name": "python3",
      "display_name": "Python 3"
    },
    "accelerator": "GPU"
  },
  "cells": [
    {
      "cell_type": "markdown",
      "metadata": {
        "id": "view-in-github",
        "colab_type": "text"
      },
      "source": [
        "<a href=\"https://colab.research.google.com/github/Annmodels/mnist_recon/blob/master/GDMnistL.ipynb\" target=\"_parent\"><img src=\"https://colab.research.google.com/assets/colab-badge.svg\" alt=\"Open In Colab\"/></a>"
      ]
    },
    {
      "cell_type": "code",
      "metadata": {
        "id": "ehVTjNXkGMK6",
        "colab_type": "code",
        "colab": {}
      },
      "source": [
        "import numpy as np\n",
        "import pandas as pd\n",
        "import cv2\n",
        "import tensorflow as tf\n",
        "import matplotlib.pyplot as plt\n"
      ],
      "execution_count": 0,
      "outputs": []
    },
    {
      "cell_type": "code",
      "metadata": {
        "id": "P0FHPnFNGwh-",
        "colab_type": "code",
        "colab": {}
      },
      "source": [
        "from tensorflow.examples.tutorials.mnist import input_data\n",
        "mnist_data = input_data.read_data_sets(\"./data\",one_hot = True)"
      ],
      "execution_count": 0,
      "outputs": []
    },
    {
      "cell_type": "code",
      "metadata": {
        "id": "xfYl0wgeJJnM",
        "colab_type": "code",
        "colab": {}
      },
      "source": [
        "no_train = mnist_data.train.num_examples\n",
        "no_test = mnist_data.test.num_examples\n",
        "no_val = mnist_data.validation.num_examples\n",
        "#print(\"Train samples : {0}, Test : {1},Val : {2}\" no_train )\n",
        "print(no_train)\n",
        "print(no_test)\n",
        "print(no_val)"
      ],
      "execution_count": 0,
      "outputs": []
    },
    {
      "cell_type": "code",
      "metadata": {
        "id": "fZqttTKjM4ku",
        "colab_type": "code",
        "colab": {}
      },
      "source": [
        "input = 784\n",
        "hidden1 = 642\n",
        "hidden2 = 521\n",
        "hidden3 = 410\n",
        "hidden4 = 305\n",
        "hidden5 = 200\n",
        "hidden6 = 100\n",
        "output = 10\n"
      ],
      "execution_count": 0,
      "outputs": []
    },
    {
      "cell_type": "code",
      "metadata": {
        "id": "W8BUOe9LPP0p",
        "colab_type": "code",
        "colab": {}
      },
      "source": [
        "learningrate = 1e-3\n",
        "print(learningrate)\n",
        "epochs = 30000\n",
        "batchsize = 100\n",
        "keep_prob = tf.placeholder(tf.float32)"
      ],
      "execution_count": 0,
      "outputs": []
    },
    {
      "cell_type": "code",
      "metadata": {
        "id": "0cVP1fOlQjku",
        "colab_type": "code",
        "colab": {}
      },
      "source": [
        "x = tf.placeholder(tf.float32,[None,input])\n",
        "y = tf.placeholder(tf.float32,[None,output])"
      ],
      "execution_count": 0,
      "outputs": []
    },
    {
      "cell_type": "code",
      "metadata": {
        "id": "ltsJkTzhRXMA",
        "colab_type": "code",
        "colab": {}
      },
      "source": [
        "weights = { \"w1\":tf.Variable(tf.truncated_normal([input,hidden1],stddev = 0.1)),\n",
        "           \"w2\":tf.Variable(tf.truncated_normal([hidden1,hidden2],stddev = 0.1)),\n",
        "           \"w3\":tf.Variable(tf.truncated_normal([hidden2,hidden3],stddev = 0.1)),\n",
        "           \"w4\":tf.Variable(tf.truncated_normal([hidden3,hidden4],stddev = 0.1)),\n",
        "           \"w5\":tf.Variable(tf.truncated_normal([hidden4,hidden5],stddev = 0.1)),\n",
        "           \"w6\":tf.Variable(tf.truncated_normal([hidden5,hidden6],stddev = 0.1)),\n",
        "           \"wout\":tf.Variable(tf.truncated_normal([hidden6,output],stddev = 0.1))}"
      ],
      "execution_count": 0,
      "outputs": []
    },
    {
      "cell_type": "code",
      "metadata": {
        "id": "bEvZCu3BVF33",
        "colab_type": "code",
        "colab": {}
      },
      "source": [
        "bias = {\"b1\":tf.Variable(tf.truncated_normal([hidden1],stddev = 0.1)),\n",
        "        \"b2\":tf.Variable(tf.truncated_normal([hidden2],stddev = 0.1)),\n",
        "        \"b3\":tf.Variable(tf.truncated_normal([hidden3],stddev = 0.1)),\n",
        "        \"b4\":tf.Variable(tf.truncated_normal([hidden4],stddev = 0.1)),\n",
        "        \"b5\":tf.Variable(tf.truncated_normal([hidden5],stddev = 0.1)),\n",
        "        \"b6\":tf.Variable(tf.truncated_normal([hidden6],stddev = 0.1)),\n",
        "        \"output\":tf.Variable(tf.truncated_normal([output],stddev = 0.1))}"
      ],
      "execution_count": 0,
      "outputs": []
    },
    {
      "cell_type": "code",
      "metadata": {
        "id": "mW4UewUcWv3o",
        "colab_type": "code",
        "colab": {}
      },
      "source": [
        "layer1 = tf.add(tf.matmul(x,weights[\"w1\"]),bias[\"b1\"])\n",
        "ld12 = tf.nn.dropout(layer1,keep_prob = 0.7)\n",
        "layer2 = tf.add(tf.matmul(ld12,weights[\"w2\"]),bias[\"b2\"])\n",
        "ld23 = tf.nn.dropout(layer2,keep_prob = 0.9)\n",
        "layer3 = tf.add(tf.matmul(layer2,weights[\"w3\"]),bias[\"b3\"])\n",
        "ld34 = tf.nn.dropout(layer3,keep_prob = 0.9)\n",
        "layer4 = tf.add(tf.matmul(layer3,weights[\"w4\"]),bias[\"b4\"])\n",
        "ld45 = tf.nn.dropout(layer4,keep_prob = 1.0)\n",
        "layer5 = tf.nn.relu(tf.add(tf.matmul(layer4,weights[\"w5\"]),bias[\"b5\"]))\n",
        "ld56 = tf.nn.dropout(layer5,keep_prob = 1.0)\n",
        "layer6 = tf.nn.relu(tf.add(tf.matmul(layer5,weights[\"w6\"]),bias[\"b6\"]))\n",
        "layerdrop = tf.nn.dropout(layer6,keep_prob = 1.0)\n",
        "layerout = tf.nn.relu(tf.add(tf.matmul(layerdrop,weights[\"wout\"]),bias[\"output\"]))"
      ],
      "execution_count": 0,
      "outputs": []
    },
    {
      "cell_type": "code",
      "metadata": {
        "id": "37aMr6l3iuTi",
        "colab_type": "code",
        "colab": {}
      },
      "source": [
        "loss = tf.reduce_mean(tf.nn.softmax_cross_entropy_with_logits_v2(logits = layerout,labels = y))\n",
        "optimizer = tf.train.GradientDescentOptimizer(learning_rate = learningrate).minimize(loss)\n",
        "prediction = tf.equal(tf.argmax(layerout,1),tf.argmax(y,1))\n",
        "accuracy = tf.reduce_mean(tf.cast(prediction,tf.float32))\n",
        "init = tf.global_variables_initializer()\n",
        "saver = tf.train.Saver()"
      ],
      "execution_count": 0,
      "outputs": []
    },
    {
      "cell_type": "code",
      "metadata": {
        "id": "WZcw7EvnjecJ",
        "colab_type": "code",
        "colab": {}
      },
      "source": [
        "with tf.Session() as sess:\n",
        "  sess.run(init)\n",
        "  for i in range (epochs):\n",
        "    mx,my = mnist_data.train.next_batch(batchsize)\n",
        "    mvx,mvy = mnist_data.validation.next_batch(batchsize)\n",
        "    sess.run(optimizer,feed_dict = {x:mx,y:my,keep_prob:1})\n",
        "    if i%100 == 0:\n",
        "      mloss,macc = sess.run([loss,accuracy],feed_dict = {x:mx,y:my,keep_prob:1})\n",
        "      mvloss,mvacc = sess.run([loss,accuracy],feed_dict = {x:mvx,y:mvy,keep_prob:1})\n",
        "      print(\"It:{0} ,  Tloss= {1} ,  Tacc = {2} ,  Vloss = {3},Vacc = {4}\".format(i,mloss,macc,mvloss,mvacc))\n",
        "      testacc = sess.run(accuracy, feed_dict = {x:mnist_data.test.images , y:mnist_data.test.labels, keep_prob:1.0})\n",
        "      print(\"Testacc {0}\".format(testacc))\n",
        "      saverpath = saver.save(sess,\"./model/my_model.ckpt\")\n"
      ],
      "execution_count": 0,
      "outputs": []
    },
    {
      "cell_type": "code",
      "metadata": {
        "id": "p6BEUqGI_5_e",
        "colab_type": "code",
        "outputId": "e60678e6-8aec-46df-dadc-2685efcd45dd",
        "colab": {
          "base_uri": "https://localhost:8080/",
          "height": 333
        }
      },
      "source": [
        "i = 86\n",
        "vx = mnist_data.test.images\n",
        "vy = mnist_data.test.labels\n",
        "print(vy[i])\n",
        "img = vx[i]\n",
        "print(img.shape)\n",
        "#grayed = cv2.cvtColor? #(ors, cv2.COLOR_BGR2GRAY)\n",
        "rescaled = cv2.resize(vx[i],(28,28))\n",
        "plt.imshow(rescaled,cmap = 'gray')\n",
        "plt.show()\n",
        "print(rescaled.shape)\n",
        "dum = img.reshape(1,-1)/255\n",
        "print(dum.shape)"
      ],
      "execution_count": 0,
      "outputs": [
        {
          "output_type": "stream",
          "text": [
            "[0. 0. 0. 0. 0. 0. 0. 1. 0. 0.]\n",
            "(784,)\n"
          ],
          "name": "stdout"
        },
        {
          "output_type": "display_data",
          "data": {
            "image/png": "[encoded data removed]",
            "text/plain": [
              "<Figure size 432x288 with 1 Axes>"
            ]
          },
          "metadata": {
            "tags": []
          }
        },
        {
          "output_type": "stream",
          "text": [
            "(28, 28)\n",
            "(1, 784)\n"
          ],
          "name": "stdout"
        }
      ]
    },
    {
      "cell_type": "code",
      "metadata": {
        "id": "Ic_e0awICF6z",
        "colab_type": "code",
        "outputId": "5e019f45-f571-4155-d1e7-4927650269c3",
        "colab": {
          "base_uri": "https://localhost:8080/",
          "height": 105
        }
      },
      "source": [
        "with tf.Session() as sess:\n",
        "  saver.restore(sess,\"./model/my_model.ckpt\")\n",
        "  z = layerout.eval(feed_dict = {x:dum,keep_prob:1.0})\n",
        "  print(z) \n",
        "  ypred = np.argmax(z,axis = 1)\n",
        "  print(\"pred  {0}\".format(ypred))"
      ],
      "execution_count": 0,
      "outputs": [
        {
          "output_type": "stream",
          "text": [
            "INFO:tensorflow:Restoring parameters from ./model/my_model.ckpt\n",
            "[[0.         0.         0.         0.         0.01892349 0.79423773\n",
            "  0.14847265 1.1447141  0.         0.5850062 ]]\n",
            "pred  [7]\n"
          ],
          "name": "stdout"
        }
      ]
    }
  ]
}