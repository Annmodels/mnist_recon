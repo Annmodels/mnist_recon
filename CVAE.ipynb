{
  "nbformat": 4,
  "nbformat_minor": 0,
  "metadata": {
    "colab": {
      "name": "CVAE.ipynb",
      "provenance": [],
      "collapsed_sections": [],
      "authorship_tag": "ABX9TyMQOlZCog+cQM3vpYHGyyLM",
      "include_colab_link": true
    },
    "kernelspec": {
      "name": "python3",
      "display_name": "Python 3"
    },
    "accelerator": "GPU"
  },
  "cells": [
    {
      "cell_type": "markdown",
      "metadata": {
        "id": "view-in-github",
        "colab_type": "text"
      },
      "source": [
        "<a href=\"https://colab.research.google.com/github/Annmodels/mnist_recon/blob/master/CVAE.ipynb\" target=\"_parent\"><img src=\"https://colab.research.google.com/assets/colab-badge.svg\" alt=\"Open In Colab\"/></a>"
      ]
    },
    {
      "cell_type": "code",
      "metadata": {
        "id": "b-wDlr-oOQHT",
        "colab_type": "code",
        "colab": {}
      },
      "source": [
        "%matplotlib inline\n",
        "import matplotlib.pyplot as plt\n",
        "import numpy as np\n",
        "import tensorflow as tf"
      ],
      "execution_count": 0,
      "outputs": []
    },
    {
      "cell_type": "code",
      "metadata": {
        "id": "S0zhFvbZOzb0",
        "colab_type": "code",
        "colab": {}
      },
      "source": [
        "from tensorflow.examples.tutorials.mnist import input_data\n",
        "database = input_data.read_data_sets('/content/data', one_hot = True)"
      ],
      "execution_count": 0,
      "outputs": []
    },
    {
      "cell_type": "code",
      "metadata": {
        "id": "dRG1wBjpQb_I",
        "colab_type": "code",
        "colab": {}
      },
      "source": [
        "learning_param = 0.001\n",
        "epochs = 30000\n",
        "batch_size = 30"
      ],
      "execution_count": 0,
      "outputs": []
    },
    {
      "cell_type": "code",
      "metadata": {
        "id": "yAWWYziuQ13k",
        "colab_type": "code",
        "colab": {}
      },
      "source": [
        "image_dim = 784\n",
        "labels = 10\n",
        "nn_dim = 432\n",
        "latent_var_dim = 2"
      ],
      "execution_count": 0,
      "outputs": []
    },
    {
      "cell_type": "code",
      "metadata": {
        "id": "zNSWACYbS3q6",
        "colab_type": "code",
        "colab": {}
      },
      "source": [
        "def xavier(in_shape):\n",
        "  val = tf.random_normal(shape = in_shape,stddev = 1./tf.sqrt(in_shape[0]/2.))\n",
        "  return val"
      ],
      "execution_count": 0,
      "outputs": []
    },
    {
      "cell_type": "code",
      "metadata": {
        "id": "ikvoIqYNTm1V",
        "colab_type": "code",
        "colab": {}
      },
      "source": [
        "weights = {\n",
        "    \"wt_en_hidden\": tf.Variable(xavier([image_dim+labels,nn_dim])),\n",
        "    \"wt_mean_hidden\": tf.Variable(xavier([nn_dim,latent_var_dim])),\n",
        "    \"wt_stddev_hidden\": tf.Variable(xavier([nn_dim,latent_var_dim])),\n",
        "    \"wt_d_hidden\": tf.Variable(xavier([latent_var_dim+labels,nn_dim])),\n",
        "    \"wt_d\": tf.Variable(xavier([nn_dim,image_dim]))\n",
        "}\n",
        "biases = {\n",
        "    \"bias_en_hidden\": tf.Variable(xavier([nn_dim])),\n",
        "    \"bias_mean_hidden\": tf.Variable(xavier([latent_var_dim])),\n",
        "    \"bias_stddev_hidden\": tf.Variable(xavier([latent_var_dim])),\n",
        "    \"bias_d_hidden\": tf.Variable(xavier([nn_dim])),\n",
        "    \"bias_d\": tf.Variable(xavier([image_dim]))\n",
        "}"
      ],
      "execution_count": 0,
      "outputs": []
    },
    {
      "cell_type": "code",
      "metadata": {
        "id": "umpER3prbNWz",
        "colab_type": "code",
        "colab": {}
      },
      "source": [
        "image_x = tf.placeholder(tf.float32,shape = [None,image_dim])\n",
        "label_x = tf.placeholder(tf.float32,shape = [None,labels])"
      ],
      "execution_count": 0,
      "outputs": []
    },
    {
      "cell_type": "code",
      "metadata": {
        "id": "r1nUtgo7cD1D",
        "colab_type": "code",
        "colab": {}
      },
      "source": [
        "modified_image = tf.concat(axis = 1,values = [image_x,label_x])\n",
        "print(modified_image.shape)\n",
        "\n",
        "en_layer = tf.add(tf.matmul(modified_image,weights[\"wt_en_hidden\"]),biases[\"bias_en_hidden\"])\n",
        "en_layer = tf.nn.tanh(en_layer)\n",
        "mean_layer = tf.add(tf.matmul(en_layer,weights[\"wt_mean_hidden\"]),biases[\"bias_mean_hidden\"])\n",
        "stddev_layer = tf.add(tf.matmul(en_layer,weights[\"wt_stddev_hidden\"]),biases[\"bias_stddev_hidden\"])\n",
        "\n",
        "epsilon = tf.random_normal(tf.shape(stddev_layer) , dtype = tf.float32 , mean = 0.0 , stddev = 1.0)\n",
        "latent_layer = mean_layer + tf.exp(0.5*stddev_layer)*epsilon\n",
        "\n",
        "modified_bwt = tf.concat(axis = 1, values = [latent_layer,label_x])\n",
        "d_hidden = tf.add(tf.matmul(modified_bwt,weights[\"wt_d_hidden\"]),biases[\"bias_d_hidden\"])\n",
        "d_hidden = tf.nn.tanh(d_hidden)\n",
        "d_output_layer = tf.add(tf.matmul(d_hidden,weights[\"wt_d\"]),biases[\"bias_d\"])\n",
        "d_output_layer = tf.nn.sigmoid(d_output_layer)\n",
        "print(d_output_layer.shape)                      "
      ],
      "execution_count": 0,
      "outputs": []
    },
    {
      "cell_type": "code",
      "metadata": {
        "id": "uE9FIqZMonVO",
        "colab_type": "code",
        "colab": {}
      },
      "source": [
        "def lossfunc(recon_img,y):\n",
        "  data_fidelity_loss = y*tf.log(1e-10 + recon_img)+(1-y)*tf.log(1e-10 + 1-recon_img)\n",
        "  data_fidelity_loss = - tf.reduce_sum(data_fidelity_loss,1)\n",
        "  #data_fidelity_loss = tf.reduce_sum(tf.nn.sigmoid_cross_entropy_with_logits(logits = recon_img,labels = y),1)\n",
        "  \n",
        "\n",
        "  KL_div_loss = 1 + stddev_layer - tf.square(mean_layer) - tf.exp(stddev_layer)\n",
        "  KL_div_loss = -0.5*tf.reduce_mean(KL_div_loss,1)\n",
        "  alpha = 1\n",
        "  beta = 1 #0.001\n",
        "  network_loss = tf.reduce_mean(alpha*data_fidelity_loss + beta*KL_div_loss) \n",
        "  return(network_loss)"
      ],
      "execution_count": 0,
      "outputs": []
    },
    {
      "cell_type": "code",
      "metadata": {
        "id": "SMqH_RlSr3bt",
        "colab_type": "code",
        "colab": {}
      },
      "source": [
        "lossval = lossfunc(d_output_layer,image_x)\n",
        "optimizer = tf.train.RMSPropOptimizer(learning_param).minimize(lossval)\n",
        "init = tf.global_variables_initializer()"
      ],
      "execution_count": 0,
      "outputs": []
    },
    {
      "cell_type": "code",
      "metadata": {
        "id": "imOlFZKhumd1",
        "colab_type": "code",
        "colab": {}
      },
      "source": [
        "sess = tf.Session()\n",
        "sess.run(init)\n",
        "for i in range(epochs):\n",
        "  xbatch,xlabel = database.train.next_batch(batch_size)\n",
        "  _,loss = sess.run([optimizer,lossval],feed_dict = {image_x : xbatch,label_x : xlabel})\n",
        "  if(i%5000 == 0):\n",
        "    print(\"loss is {0} at itr {1}\".format(loss,i))"
      ],
      "execution_count": 0,
      "outputs": []
    },
    {
      "cell_type": "code",
      "metadata": {
        "id": "cXmf2zOfybe8",
        "colab_type": "code",
        "colab": {}
      },
      "source": [
        "noisy_x = tf.placeholder(tf.float32,shape = [None,latent_var_dim])\n",
        "modified_bwt1 = tf.concat(axis = 1,values = [noisy_x,label_x])\n",
        "d_hidden = tf.add(tf.matmul(modified_bwt1,weights[\"wt_d_hidden\"]),biases[\"bias_d_hidden\"])\n",
        "d_hidden = tf.nn.tanh(d_hidden)\n",
        "d_output_layer = tf.add(tf.matmul(d_hidden,weights[\"wt_d\"]),biases[\"bias_d\"])\n",
        "d_output_layer = tf.nn.sigmoid(d_output_layer)"
      ],
      "execution_count": 0,
      "outputs": []
    },
    {
      "cell_type": "code",
      "metadata": {
        "id": "GQf3OWhi0eOk",
        "colab_type": "code",
        "colab": {}
      },
      "source": [
        "n = 20\n",
        "xlimit = np.linspace(-2,2,n)\n",
        "ylimit = np.linspace(-2,2,n)\n",
        "\n",
        "print(label_x.shape)\n",
        "my_x_label = np.array([[0,0,0,0,1,0,0,0,0,0]]*batch_size)\n",
        "empty_img = np.empty((28*n,28*n))\n",
        "\n",
        "for i,zi in enumerate(xlimit):\n",
        "  for j,pi in enumerate(ylimit):\n",
        "    generated_latent_layer  = np.array([[zi,pi]]*batch_size)\n",
        "    generated_latent_layer = np.random.normal(0,1,size = [batch_size , latent_var_dim])\n",
        "    generated_img = sess.run(d_output_layer,feed_dict = {noisy_x: generated_latent_layer,label_x : my_x_label})\n",
        "    empty_img[(n-i-1)*28:(n-i)*28 , j*28:(j+1)*28] = generated_img[0].reshape(28,28)\n",
        "\n",
        "plt.figure(figsize = (8,10))\n",
        "x,y = np.meshgrid(xlimit,ylimit)\n",
        "plt.imshow(empty_img,origin = \"upper\", cmap = \"gray\")\n",
        "plt.grid(False)\n",
        "plt.show()\n",
        "                             "
      ],
      "execution_count": 0,
      "outputs": []
    },
    {
      "cell_type": "code",
      "metadata": {
        "id": "c_bjm8Q54hP_",
        "colab_type": "code",
        "colab": {}
      },
      "source": [
        "print(batch_size)\n",
        "xsample , ysample = database.test.next_batch((batch_size + 15000))\n",
        "print(xsample.shape)\n",
        "interim = sess.run(latent_layer,feed_dict = {image_x : xsample,label_x : ysample})\n",
        "print(interim.shape)\n",
        "colors = np.argmax(ysample,1)\n",
        "plt.figure(figsize=(8,6))\n",
        "plt.scatter(interim[:,0],interim[:,1],c = colors, cmap = 'viridis')\n",
        "plt.colorbar()\n",
        "plt.grid()\n"
      ],
      "execution_count": 0,
      "outputs": []
    },
    {
      "cell_type": "code",
      "metadata": {
        "id": "mPpeo7wnZAVA",
        "colab_type": "code",
        "colab": {}
      },
      "source": [
        "#sess.close()"
      ],
      "execution_count": 0,
      "outputs": []
    }
  ]
}