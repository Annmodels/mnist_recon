{
  "nbformat": 4,
  "nbformat_minor": 0,
  "metadata": {
    "colab": {
      "name": "InfoGAN.ipynb",
      "provenance": [],
      "collapsed_sections": [],
      "authorship_tag": "ABX9TyPBA1zSv4t/twfj4Zoe0SXP",
      "include_colab_link": true
    },
    "kernelspec": {
      "name": "python3",
      "display_name": "Python 3"
    },
    "accelerator": "GPU"
  },
  "cells": [
    {
      "cell_type": "markdown",
      "metadata": {
        "id": "view-in-github",
        "colab_type": "text"
      },
      "source": [
        "<a href=\"https://colab.research.google.com/github/Annmodels/mnist_recon/blob/master/InfoGAN.ipynb\" target=\"_parent\"><img src=\"https://colab.research.google.com/assets/colab-badge.svg\" alt=\"Open In Colab\"/></a>"
      ]
    },
    {
      "cell_type": "code",
      "metadata": {
        "id": "FG-W7hsvU092",
        "colab_type": "code",
        "colab": {}
      },
      "source": [
        "%matplotlib inline\n",
        "import numpy as np\n",
        "import tensorflow as tf\n",
        "import matplotlib.pyplot as plt"
      ],
      "execution_count": 0,
      "outputs": []
    },
    {
      "cell_type": "code",
      "metadata": {
        "id": "8bonyblRXlSL",
        "colab_type": "code",
        "colab": {}
      },
      "source": [
        "from tensorflow.examples.tutorials.mnist import input_data\n",
        "mnist = input_data.read_data_sets('/content/data', one_hot = True)"
      ],
      "execution_count": 0,
      "outputs": []
    },
    {
      "cell_type": "code",
      "metadata": {
        "id": "zXAK768jeTZB",
        "colab_type": "code",
        "colab": {}
      },
      "source": [
        "lrate = 0.0002\n",
        "batch_size = 32\n",
        "epochs = 50000"
      ],
      "execution_count": 0,
      "outputs": []
    },
    {
      "cell_type": "code",
      "metadata": {
        "id": "IpDj-J-rewDQ",
        "colab_type": "code",
        "colab": {}
      },
      "source": [
        "image_dim = 784\n",
        "z_dim = 16\n",
        "c_dim = 10"
      ],
      "execution_count": 0,
      "outputs": []
    },
    {
      "cell_type": "code",
      "metadata": {
        "id": "aYPyx_QYB8KD",
        "colab_type": "code",
        "colab": {}
      },
      "source": [
        "d_h1 = 128\n",
        "g_h1 = 256\n",
        "q_h1 = 128"
      ],
      "execution_count": 0,
      "outputs": []
    },
    {
      "cell_type": "code",
      "metadata": {
        "id": "jI6vmNH_fPTN",
        "colab_type": "code",
        "colab": {}
      },
      "source": [
        "def xavier_init(shape):\n",
        "  return tf.random_normal(shape = shape , stddev = 1./tf.sqrt(shape[0]/2.0))"
      ],
      "execution_count": 0,
      "outputs": []
    },
    {
      "cell_type": "code",
      "metadata": {
        "id": "lZOGtiQEf5WD",
        "colab_type": "code",
        "colab": {}
      },
      "source": [
        "disc_wt = {\n",
        "    \"disc_hidn\": tf.Variable(xavier_init([image_dim , d_h1])),\n",
        "    \"disc_final\": tf.Variable(xavier_init([d_h1 , 1]))\n",
        "          }\n",
        "gen_wt = {\n",
        "    \"gen_hidn\": tf.Variable(xavier_init([z_dim+c_dim , g_h1])),\n",
        "    \"gen_final\": tf.Variable(xavier_init([g_h1 , image_dim]))\n",
        "          }\n",
        "q_wt = {\n",
        "    \"q_hidn\": tf.Variable(xavier_init([image_dim , q_h1])),\n",
        "    \"q_final\": tf.Variable(xavier_init([q_h1 , c_dim]))\n",
        "       }\n",
        "\n",
        "disc_bias = {\n",
        "    \"disc_hidn\": tf.Variable(xavier_init([d_h1])),\n",
        "    \"disc_final\": tf.Variable(xavier_init([1])),\n",
        "            }\n",
        "gen_bias = {\n",
        "    \"gen_hidn\": tf.Variable(xavier_init([g_h1])),\n",
        "    \"gen_final\": tf.Variable(xavier_init([image_dim]))\n",
        "       }\n",
        "q_bias = {\n",
        "    \"q_hidn\": tf.Variable(xavier_init([q_h1])),\n",
        "    \"q_final\": tf.Variable(xavier_init([c_dim]))\n",
        "         }"
      ],
      "execution_count": 0,
      "outputs": []
    },
    {
      "cell_type": "code",
      "metadata": {
        "id": "5pwW1nOdyMWt",
        "colab_type": "code",
        "colab": {}
      },
      "source": [
        "z_input = tf.placeholder(tf.float32 , shape = [None , z_dim])\n",
        "c_input = tf.placeholder(tf.float32 , shape = [None , c_dim])  \n",
        "x_input = tf.placeholder(tf.float32 , shape = [None , image_dim])"
      ],
      "execution_count": 0,
      "outputs": []
    },
    {
      "cell_type": "code",
      "metadata": {
        "id": "GxbLqW-qKrtF",
        "colab_type": "code",
        "colab": {}
      },
      "source": [
        "def z_distribution(m,n):\n",
        "  return np.random.uniform(-1.,1.,size = [m,n])\n",
        "\n",
        "def c_distribution(m,c_dim):\n",
        "  return np.random.multinomial(1,c_dim*[1/c_dim],size = m)"
      ],
      "execution_count": 0,
      "outputs": []
    },
    {
      "cell_type": "code",
      "metadata": {
        "id": "TqFQ5sicvAPC",
        "colab_type": "code",
        "colab": {}
      },
      "source": [
        "def Discriminator(x):\n",
        "  d_hidn_layer = tf.nn.relu(tf.add(tf.matmul(x , disc_wt[\"disc_hidn\"]) , disc_bias[\"disc_hidn\"]))\n",
        "  final_layer = tf.add(tf.matmul(d_hidn_layer , disc_wt[\"disc_final\"]) , disc_bias[\"disc_final\"])\n",
        "  disc_prob_output = tf.nn.sigmoid(final_layer)\n",
        "  return disc_prob_output\n",
        "\n",
        "def Generator(z,c):\n",
        "  input = tf.concat(axis = 1 , values = [z,c])\n",
        "  g_hidn_layer = tf.nn.relu(tf.add(tf.matmul(input , gen_wt[\"gen_hidn\"]) , gen_bias[\"gen_hidn\"]))\n",
        "  final_layer = tf.add(tf.matmul(g_hidn_layer , gen_wt[\"gen_final\"]) , gen_bias[\"gen_final\"])\n",
        "  gen_prob_output = tf.nn.sigmoid(final_layer)\n",
        "  return gen_prob_output\n",
        "\n",
        "def Auxillary_nn(x):\n",
        "  q_hidn_layer = tf.nn.relu(tf.add(tf.matmul(x , q_wt[\"q_hidn\"]) , q_bias[\"q_hidn\"]))\n",
        "  final_layer = tf.add(tf.matmul(q_hidn_layer , q_wt[\"q_final\"]) , q_bias[\"q_final\"])\n",
        "  q_prob_output = tf.nn.softmax(final_layer)\n",
        "  return q_prob_output"
      ],
      "execution_count": 0,
      "outputs": []
    },
    {
      "cell_type": "code",
      "metadata": {
        "id": "pXhJIsbHzQ_o",
        "colab_type": "code",
        "colab": {}
      },
      "source": [
        "samples_generated = Generator(z_input,c_input)\n",
        "real_output_disc = Discriminator(x_input)\n",
        "fake_output_disc = Discriminator(samples_generated)\n",
        "Estimated_c = Auxillary_nn(samples_generated)\n",
        "\n",
        "Disc_Loss = - tf.reduce_mean(tf.log(real_output_disc + 1e-7)+tf.log(1.0 - fake_output_disc + 1e-7))\n",
        "Gen_Loss = -tf.reduce_mean(tf.log(fake_output_disc + 1e-7)) \n",
        "Q_Loss = -tf.reduce_mean(-tf.reduce_sum(tf.log( Estimated_c + 1e-7)*c_input,1))"
      ],
      "execution_count": 0,
      "outputs": []
    },
    {
      "cell_type": "code",
      "metadata": {
        "id": "jKo-KWM-3eAo",
        "colab_type": "code",
        "colab": {}
      },
      "source": [
        "Gen_var = [gen_wt[\"gen_hidn\"],gen_wt[\"gen_final\"],gen_bias[\"gen_hidn\"],gen_bias[\"gen_final\"]]\n",
        "Disc_var = [disc_wt[\"disc_hidn\"],disc_wt[\"disc_final\"],disc_bias[\"disc_hidn\"],disc_bias[\"disc_final\"]]\n",
        "Q_var = [q_wt[\"q_hidn\"],q_wt[\"q_final\"],q_bias[\"q_hidn\"],q_bias[\"q_final\"]]"
      ],
      "execution_count": 0,
      "outputs": []
    },
    {
      "cell_type": "code",
      "metadata": {
        "id": "OH3jmZwP6NDu",
        "colab_type": "code",
        "colab": {}
      },
      "source": [
        "Disc_optimize = tf.train.AdamOptimizer(learning_rate = lrate).minimize(Disc_Loss , var_list = Disc_var)\n",
        "Gen_optimize = tf.train.AdamOptimizer(learning_rate = lrate).minimize(Gen_Loss , var_list = Gen_var)\n",
        "Q_optimize = tf.train.AdamOptimizer(learning_rate = lrate).minimize(Q_Loss , var_list = Gen_var+Q_var)"
      ],
      "execution_count": 0,
      "outputs": []
    },
    {
      "cell_type": "code",
      "metadata": {
        "id": "9L2xcQgm8Cty",
        "colab_type": "code",
        "colab": {}
      },
      "source": [
        "init = tf.global_variables_initializer()\n",
        "sess = tf.Session()\n",
        "sess.run(init)\n",
        "\n",
        "for epoch in range(epochs):\n",
        "  x_batch,_ = mnist.train.next_batch(batch_size)\n",
        "  z_noise = z_distribution(batch_size , z_dim) \n",
        "  c_noise = c_distribution(batch_size , c_dim) \n",
        " \n",
        "  _,Disc_loss_epoch = sess.run([Disc_optimize,Disc_Loss],feed_dict = {x_input:x_batch,z_input:z_noise,c_input:c_noise}) \n",
        "  _,Gen_loss_epoch = sess.run([Gen_optimize,Gen_Loss],feed_dict = {z_input:z_noise,c_input:c_noise})\n",
        "  _,Aux_loss_epoch = sess.run([Q_optimize,Gen_Loss],feed_dict = {z_input:z_noise,c_input:c_noise})\n",
        "  if epoch%2000 == 0:\n",
        "    print(\"steps: {0}  Disc_loss: {1} , Gen_loss: {2} , Aux_loss: {3}\".format(epoch,Disc_loss_epoch,Gen_loss_epoch,Aux_loss_epoch))"
      ],
      "execution_count": 0,
      "outputs": []
    },
    {
      "cell_type": "code",
      "metadata": {
        "id": "HBULlzhBGV3H",
        "colab_type": "code",
        "colab": {}
      },
      "source": [
        "test_output = Generator(z_input,c_input)\n",
        "n = 6\n",
        "canvas = np.empty((28*n,28*n))\n",
        "for i in range(n):\n",
        "  z_noise = z_distribution(batch_size , z_dim)\n",
        "  \n",
        "  #c_noise = c_distribution(batch_size , c_dim)\n",
        "  #or\n",
        "  id = 0\n",
        "  c_noise = np.zeros((batch_size,c_dim))\n",
        "  c_noise[range(batch_size),id] = 1\n",
        "  \n",
        "  g = sess.run(test_output , feed_dict = {z_input:z_noise , c_input:c_noise})\n",
        "  g = -1*(g-1)\n",
        "  for j in range(n):\n",
        "    canvas[i*28:(i+1)*28 , j*28:(j+1)*28] = g[j].reshape([28,28])\n",
        "\n",
        "plt.figure(figsize = (n,n))\n",
        "plt.imshow(canvas , origin = \"upper\" , cmap = \"gray\")\n",
        "plt.show()"
      ],
      "execution_count": 0,
      "outputs": []
    }
  ]
}