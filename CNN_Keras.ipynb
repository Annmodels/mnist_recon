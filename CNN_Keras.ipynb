{
  "nbformat": 4,
  "nbformat_minor": 0,
  "metadata": {
    "colab": {
      "name": "CNN_Keras.ipynb",
      "provenance": [],
      "collapsed_sections": [],
      "authorship_tag": "ABX9TyOqlKm0n5xnwQ/2VWwfUMw+",
      "include_colab_link": true
    },
    "kernelspec": {
      "name": "python3",
      "display_name": "Python 3"
    },
    "accelerator": "GPU"
  },
  "cells": [
    {
      "cell_type": "markdown",
      "metadata": {
        "id": "view-in-github",
        "colab_type": "text"
      },
      "source": [
        "<a href=\"https://colab.research.google.com/github/Annmodels/mnist_recon/blob/master/CNN_Keras.ipynb\" target=\"_parent\"><img src=\"https://colab.research.google.com/assets/colab-badge.svg\" alt=\"Open In Colab\"/></a>"
      ]
    },
    {
      "cell_type": "code",
      "metadata": {
        "id": "AAk0Chg5ik__",
        "colab_type": "code",
        "colab": {}
      },
      "source": [
        "import numpy as np\n",
        "import matplotlib.pyplot as plt\n",
        "from keras.datasets import mnist\n",
        "from keras.utils import to_categorical\n",
        "from keras.models import Sequential\n",
        "from keras.layers import Conv2D,MaxPooling2D,Dense,Flatten"
      ],
      "execution_count": 0,
      "outputs": []
    },
    {
      "cell_type": "code",
      "metadata": {
        "id": "2eOJ-iHUjxkP",
        "colab_type": "code",
        "colab": {}
      },
      "source": [
        "(xtrain,ytrain),(xtest,ytest) = mnist.load_data()\n",
        "print(xtrain.shape,ytrain.shape,xtest.shape,ytest.shape)"
      ],
      "execution_count": 0,
      "outputs": []
    },
    {
      "cell_type": "code",
      "metadata": {
        "id": "HaU7XRN9kLYZ",
        "colab_type": "code",
        "colab": {}
      },
      "source": [
        "image_index = 34\n",
        "plt.imshow(xtrain[image_index],cmap = 'gray')\n",
        "plt.show()"
      ],
      "execution_count": 0,
      "outputs": []
    },
    {
      "cell_type": "code",
      "metadata": {
        "id": "hz3l7P6_khy5",
        "colab_type": "code",
        "colab": {}
      },
      "source": [
        "xtrain = xtrain.reshape(xtrain.shape[0],28,28,1)\n",
        "xtest = xtest.reshape(xtest.shape[0],28,28,1)\n",
        "print(xtrain.shape,xtest.shape)"
      ],
      "execution_count": 0,
      "outputs": []
    },
    {
      "cell_type": "code",
      "metadata": {
        "id": "MichvT8llIfT",
        "colab_type": "code",
        "colab": {}
      },
      "source": [
        "xtrain = xtrain.astype('float32')\n",
        "xtest = xtest.astype('float32')\n",
        "xtrain /= 255 - 0.5\n",
        "xtest /= 255 - 0.5"
      ],
      "execution_count": 0,
      "outputs": []
    },
    {
      "cell_type": "code",
      "metadata": {
        "id": "bpL2BfSFltR8",
        "colab_type": "code",
        "colab": {}
      },
      "source": [
        "num_filters = 8\n",
        "filter_sz = 3\n",
        "pool_sz = 2"
      ],
      "execution_count": 0,
      "outputs": []
    },
    {
      "cell_type": "code",
      "metadata": {
        "id": "CsTon8iQl8yi",
        "colab_type": "code",
        "colab": {}
      },
      "source": [
        "model = Sequential()\n",
        "model.add(Conv2D(num_filters,filter_sz,strides = (1,1),input_shape = (28,28,1)))\n",
        "model.add(MaxPooling2D(pool_size = pool_sz))\n",
        "model.add(Flatten())\n",
        "model.add(Dense(10,activation = 'softmax'))\n",
        "\n",
        "model.compile('adam',loss = 'categorical_crossentropy',metrics = ['accuracy'])\n",
        "model.fit(xtrain,to_categorical(ytrain),epochs = 3,verbose = 1,validation_data = (xtest,to_categorical(ytest)),)"
      ],
      "execution_count": 0,
      "outputs": []
    },
    {
      "cell_type": "code",
      "metadata": {
        "id": "b-WA5NfOq5b2",
        "colab_type": "code",
        "colab": {}
      },
      "source": [
        "score = model.evaluate(xtest,to_categorical(ytest),verbose = 0)\n",
        "print('Test loss:', score[0])\n",
        "print('Test acc:',score[1])"
      ],
      "execution_count": 0,
      "outputs": []
    },
    {
      "cell_type": "code",
      "metadata": {
        "id": "rmOxeFXspSIz",
        "colab_type": "code",
        "colab": {}
      },
      "source": [
        "predictions = model.predict(xtest[:5])\n",
        "print(np.argmax(predictions,axis = 1))\n",
        "print(ytest[:5])"
      ],
      "execution_count": 0,
      "outputs": []
    }
  ]
}