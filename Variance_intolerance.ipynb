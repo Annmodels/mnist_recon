{
  "nbformat": 4,
  "nbformat_minor": 0,
  "metadata": {
    "colab": {
      "name": "Variance_intolerance.ipynb",
      "provenance": [],
      "collapsed_sections": [],
      "authorship_tag": "ABX9TyOA+kIiGv0u0je2vSDQbjQP",
      "include_colab_link": true
    },
    "kernelspec": {
      "name": "python3",
      "display_name": "Python 3"
    },
    "accelerator": "GPU"
  },
  "cells": [
    {
      "cell_type": "markdown",
      "metadata": {
        "id": "view-in-github",
        "colab_type": "text"
      },
      "source": [
        "<a href=\"https://colab.research.google.com/github/Annmodels/mnist_recon/blob/master/Variance_intolerance.ipynb\" target=\"_parent\"><img src=\"https://colab.research.google.com/assets/colab-badge.svg\" alt=\"Open In Colab\"/></a>"
      ]
    },
    {
      "cell_type": "code",
      "metadata": {
        "id": "0QIo-b0vZWZB",
        "colab_type": "code",
        "colab": {}
      },
      "source": [
        "import cv2\n",
        "%matplotlib inline\n",
        "import matplotlib.pyplot as plt\n",
        "import tensorflow as tf\n",
        "import numpy as np\n",
        "from keras.utils import np_utils"
      ],
      "execution_count": 0,
      "outputs": []
    },
    {
      "cell_type": "code",
      "metadata": {
        "id": "vrFRORwMcOdC",
        "colab_type": "code",
        "colab": {}
      },
      "source": [
        "from google.colab import files\n",
        "files.upload()"
      ],
      "execution_count": 0,
      "outputs": []
    },
    {
      "cell_type": "code",
      "metadata": {
        "id": "rE9nEtlMclJf",
        "colab_type": "code",
        "colab": {}
      },
      "source": [
        "!mkdir ~/.kaggle\n",
        "!cp kaggle.json ~/.kaggle/\n",
        "!chmod 600 ~/.kaggle/kaggle.json"
      ],
      "execution_count": 0,
      "outputs": []
    },
    {
      "cell_type": "code",
      "metadata": {
        "id": "VJkjJqHZdOid",
        "colab_type": "code",
        "colab": {}
      },
      "source": [
        "!kaggle competitions download -c digit-recognizer"
      ],
      "execution_count": 0,
      "outputs": []
    },
    {
      "cell_type": "code",
      "metadata": {
        "id": "qzRRNpjZgcA8",
        "colab_type": "code",
        "colab": {}
      },
      "source": [
        "from zipfile import ZipFile\n",
        "fn = \"train.csv.zip\"\n",
        "with ZipFile(fn,'r')as zipfn:\n",
        "  zipfn.extractall()"
      ],
      "execution_count": 0,
      "outputs": []
    },
    {
      "cell_type": "code",
      "metadata": {
        "id": "rVKVRE6WhCRg",
        "colab_type": "code",
        "colab": {}
      },
      "source": [
        "traindb = np.loadtxt('train.csv',delimiter =',', skiprows = 1)\n",
        "xtrain = np.array(traindb[:,1:])\n",
        "ylabel = np.array(traindb[:,0])\n",
        "print(xtrain.shape)\n",
        "print(ylabel.shape)"
      ],
      "execution_count": 0,
      "outputs": []
    },
    {
      "cell_type": "code",
      "metadata": {
        "id": "HTHBxQmTil46",
        "colab_type": "code",
        "colab": {
          "base_uri": "https://localhost:8080/",
          "height": 300
        },
        "outputId": "cba7ade3-23ae-45fd-c58d-1936db79f86f"
      },
      "source": [
        "xtrain1 = xtrain / 255\n",
        "ylabel1 = np_utils.to_categorical(ylabel)\n",
        "print(xtrain1.shape)\n",
        "print(ylabel1.shape)\n",
        "plt.imshow(xtrain1[3].reshape(28,28), cmap = 'gray')\n",
        "plt.show()"
      ],
      "execution_count": 93,
      "outputs": [
        {
          "output_type": "stream",
          "text": [
            "(42000, 784)\n",
            "(42000, 10)\n"
          ],
          "name": "stdout"
        },
        {
          "output_type": "display_data",
          "data": {
            "image/png": "[encoded data removed]",
            "text/plain": [
              "<Figure size 432x288 with 1 Axes>"
            ]
          },
          "metadata": {
            "tags": []
          }
        }
      ]
    },
    {
      "cell_type": "code",
      "metadata": {
        "id": "peCW5A_9naSV",
        "colab_type": "code",
        "colab": {}
      },
      "source": [
        "x = tf.placeholder(tf.float32,[None,784])\n",
        "y = tf.placeholder(tf.float32,[None,10])"
      ],
      "execution_count": 0,
      "outputs": []
    },
    {
      "cell_type": "code",
      "metadata": {
        "id": "TR2u_7FSn0sF",
        "colab_type": "code",
        "colab": {}
      },
      "source": [
        "hidden = 1000\n",
        "output = 10\n",
        "lrate = 0.1"
      ],
      "execution_count": 0,
      "outputs": []
    },
    {
      "cell_type": "code",
      "metadata": {
        "id": "jE0x24GRoHaC",
        "colab_type": "code",
        "colab": {}
      },
      "source": [
        "z1 = tf.layers.dense(x , hidden , activation = tf.nn.relu)\n",
        "outlayer = tf.layers.dense(z1 , output , activation = tf.nn.softmax)"
      ],
      "execution_count": 0,
      "outputs": []
    },
    {
      "cell_type": "code",
      "metadata": {
        "id": "VQpYNsENpLuw",
        "colab_type": "code",
        "colab": {}
      },
      "source": [
        "loss = tf.reduce_mean(tf.nn.softmax_cross_entropy_with_logits_v2(logits = outlayer , labels = ylabel1))\n",
        "optimizer = tf.train.GradientDescentOptimizer(learning_rate = lrate).minimize(loss)\n",
        "prediction = tf.equal(tf.argmax(outlayer,1),tf.argmax(y,1))\n",
        "init = tf.global_variables_initializer()"
      ],
      "execution_count": 0,
      "outputs": []
    },
    {
      "cell_type": "code",
      "metadata": {
        "id": "vlQL8aAKtrJx",
        "colab_type": "code",
        "colab": {
          "base_uri": "https://localhost:8080/",
          "height": 283
        },
        "outputId": "598f738e-650d-468f-ff4c-86bcc01c0760"
      },
      "source": [
        "xtrain4 = xtrain1[ylabel == 4]\n",
        "print(xtrain4.shape)\n",
        "xreshape = xtrain4.reshape(-1,28,28)\n",
        "pic = np.zeros((28,28))\n",
        "pic1 = np.copy(pic)\n",
        "for i in range(xreshape.shape[0]):\n",
        "  pic1 = xreshape[i,:,:]\n",
        "  pic = pic+pic1\n",
        "testimg = (pic/xreshape.shape[0])\n",
        "plt.imshow(testimg, cmap = 'gray')\n",
        "plt.show()"
      ],
      "execution_count": 98,
      "outputs": [
        {
          "output_type": "stream",
          "text": [
            "(4072, 784)\n"
          ],
          "name": "stdout"
        },
        {
          "output_type": "display_data",
          "data": {
            "image/png": "[encoded data removed]",
            "text/plain": [
              "<Figure size 432x288 with 1 Axes>"
            ]
          },
          "metadata": {
            "tags": []
          }
        }
      ]
    },
    {
      "cell_type": "code",
      "metadata": {
        "id": "QRn5ufcmFMdn",
        "colab_type": "code",
        "colab": {
          "base_uri": "https://localhost:8080/",
          "height": 141
        },
        "outputId": "b69b5777-5c14-48bb-9cdd-f7dbde7d6cee"
      },
      "source": [
        "sess = tf.Session()\n",
        "sess.run(init)\n",
        "for i in range(500):\n",
        "  gh,lossy = sess.run([optimizer,loss],feed_dict = {x:xtrain1, y:ylabel1})\n",
        "  if(i%100 == 0):\n",
        "    print(\"loss at {2}/{1} : {0}\".format(lossy,500,i))\n",
        "\n",
        "testreshaped = testimg.reshape(1,784)\n",
        "z = sess.run(outlayer,feed_dict = {x:testreshaped})\n",
        "ypred = np.argmax(z,axis = 1)\n",
        "print(\"test img prediction : {0}\".format(ypred))\n"
      ],
      "execution_count": 99,
      "outputs": [
        {
          "output_type": "stream",
          "text": [
            "loss at 0/500 : 2.3032851219177246\n",
            "loss at 100/500 : 1.9236871004104614\n",
            "loss at 200/500 : 1.7776458263397217\n",
            "loss at 300/500 : 1.7107455730438232\n",
            "loss at 400/500 : 1.6844713687896729\n",
            "test img prediction : [4]\n"
          ],
          "name": "stdout"
        }
      ]
    },
    {
      "cell_type": "code",
      "metadata": {
        "id": "6GtDLOMwJSn4",
        "colab_type": "code",
        "colab": {
          "base_uri": "https://localhost:8080/",
          "height": 531
        },
        "outputId": "3bba8132-a984-458a-bcfa-5b0822332e95"
      },
      "source": [
        "print(testimg.shape)\n",
        "for i in range(testimg.shape[0]):\n",
        "  if (i<10):\n",
        "    testimg2[:,i] = testimg[:,i+8]\n",
        "    testimg2 = np.clip(testimg2,0,1.0)\n",
        "plt.imshow(testimg2, cmap = 'gray')\n",
        "plt.show()\n",
        "\n",
        "plt.imshow(testimg, cmap = 'gray')\n",
        "plt.show()"
      ],
      "execution_count": 100,
      "outputs": [
        {
          "output_type": "stream",
          "text": [
            "(28, 28)\n"
          ],
          "name": "stdout"
        },
        {
          "output_type": "display_data",
          "data": {
            "image/png": "[encoded data removed]",
            "text/plain": [
              "<Figure size 432x288 with 1 Axes>"
            ]
          },
          "metadata": {
            "tags": []
          }
        },
        {
          "output_type": "display_data",
          "data": {
            "image/png": "[encoded data removed]",
            "text/plain": [
              "<Figure size 432x288 with 1 Axes>"
            ]
          },
          "metadata": {
            "tags": []
          }
        }
      ]
    },
    {
      "cell_type": "code",
      "metadata": {
        "id": "ae7hBzYJLS-x",
        "colab_type": "code",
        "colab": {
          "base_uri": "https://localhost:8080/",
          "height": 35
        },
        "outputId": "6d3da9cc-2900-4b00-ab5c-eab3522dfa4a"
      },
      "source": [
        "timgreshaped4 = testimg2.reshape(1,784)\n",
        "z1 = sess.run(outlayer,feed_dict = {x:timgreshaped4})\n",
        "ypred1 = np.argmax(z1,axis = 1)\n",
        "print(\"prediction : {0}\".format(ypred1))"
      ],
      "execution_count": 101,
      "outputs": [
        {
          "output_type": "stream",
          "text": [
            "prediction : [0]\n"
          ],
          "name": "stdout"
        }
      ]
    }
  ]
}